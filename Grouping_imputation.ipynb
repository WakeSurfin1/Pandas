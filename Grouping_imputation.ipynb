{
 "cells": [
  {
   "cell_type": "code",
   "execution_count": null,
   "metadata": {},
   "outputs": [],
   "source": [
    "## Grouping Imputation - using group by \n",
    "## to more intelligently fill in missing data\n",
    "\n",
    "## using sales data: https://www.kaggle.com/c/rossmann-store-sales/data"
   ]
  },
  {
   "cell_type": "code",
   "execution_count": 2,
   "metadata": {},
   "outputs": [
    {
     "data": {
      "text/html": [
       "<div>\n",
       "<style scoped>\n",
       "    .dataframe tbody tr th:only-of-type {\n",
       "        vertical-align: middle;\n",
       "    }\n",
       "\n",
       "    .dataframe tbody tr th {\n",
       "        vertical-align: top;\n",
       "    }\n",
       "\n",
       "    .dataframe thead th {\n",
       "        text-align: right;\n",
       "    }\n",
       "</style>\n",
       "<table border=\"1\" class=\"dataframe\">\n",
       "  <thead>\n",
       "    <tr style=\"text-align: right;\">\n",
       "      <th></th>\n",
       "      <th>Store</th>\n",
       "      <th>DayOfWeek</th>\n",
       "      <th>Date</th>\n",
       "      <th>Sales</th>\n",
       "      <th>Customers</th>\n",
       "      <th>Open</th>\n",
       "      <th>Promo</th>\n",
       "      <th>StateHoliday</th>\n",
       "      <th>SchoolHoliday</th>\n",
       "    </tr>\n",
       "  </thead>\n",
       "  <tbody>\n",
       "    <tr>\n",
       "      <th>0</th>\n",
       "      <td>1</td>\n",
       "      <td>5</td>\n",
       "      <td>2015-07-31</td>\n",
       "      <td>5263</td>\n",
       "      <td>555</td>\n",
       "      <td>1</td>\n",
       "      <td>1</td>\n",
       "      <td>0</td>\n",
       "      <td>1</td>\n",
       "    </tr>\n",
       "    <tr>\n",
       "      <th>1</th>\n",
       "      <td>2</td>\n",
       "      <td>5</td>\n",
       "      <td>2015-07-31</td>\n",
       "      <td>6064</td>\n",
       "      <td>625</td>\n",
       "      <td>1</td>\n",
       "      <td>1</td>\n",
       "      <td>0</td>\n",
       "      <td>1</td>\n",
       "    </tr>\n",
       "  </tbody>\n",
       "</table>\n",
       "</div>"
      ],
      "text/plain": [
       "   Store  DayOfWeek       Date  Sales  Customers  Open  Promo StateHoliday  \\\n",
       "0      1          5 2015-07-31   5263        555     1      1            0   \n",
       "1      2          5 2015-07-31   6064        625     1      1            0   \n",
       "\n",
       "   SchoolHoliday  \n",
       "0              1  \n",
       "1              1  "
      ]
     },
     "execution_count": 2,
     "metadata": {},
     "output_type": "execute_result"
    }
   ],
   "source": [
    "import pandas as pd\n",
    "import numpy as np\n",
    "import matplotlib.pyplot as plt\n",
    "\n",
    "sourceFile = 'C:/Users/jtcUser/Documents/Systems/Training/PandasCourse/Section5/files/train.csv'\n",
    "\n",
    "## note: low_memory=False means load the whole datafame at once\n",
    "dfo = pd.read_csv(sourceFile, low_memory=False, parse_dates=[\"Date\"])\n",
    "dfo.head(2)"
   ]
  },
  {
   "cell_type": "code",
   "execution_count": 4,
   "metadata": {},
   "outputs": [
    {
     "data": {
      "image/png": "[encoded data removed]",
      "text/plain": [
       "<Figure size 432x288 with 1 Axes>"
      ]
     },
     "metadata": {
      "needs_background": "light"
     },
     "output_type": "display_data"
    }
   ],
   "source": [
    "plt.hist(dfo.Sales);"
   ]
  },
  {
   "cell_type": "code",
   "execution_count": 4,
   "metadata": {},
   "outputs": [
    {
     "name": "stdout",
     "output_type": "stream",
     "text": [
      "(844392, 9)\n"
     ]
    },
    {
     "data": {
      "image/png": "[encoded data removed]",
      "text/plain": [
       "<Figure size 432x288 with 1 Axes>"
      ]
     },
     "metadata": {
      "needs_background": "light"
     },
     "output_type": "display_data"
    }
   ],
   "source": [
    "## Only include open stores in the new dataframe\n",
    "## only the rows where the value in the \"Open\" column is equal to 1.\n",
    "\n",
    "df = dfo[dfo.Open == 1].copy()\n",
    "plt.hist(df.Sales)\n",
    "print(df.shape);"
   ]
  },
  {
   "cell_type": "code",
   "execution_count": 12,
   "metadata": {},
   "outputs": [
    {
     "data": {
      "image/png": "[encoded data removed]",
      "text/plain": [
       "<Figure size 432x288 with 1 Axes>"
      ]
     },
     "metadata": {
      "needs_background": "light"
     },
     "output_type": "display_data"
    }
   ],
   "source": [
    "## Use Numpy to generate a random boolean mask\n",
    "## with the same length as dataframe df\n",
    "## Creates an array of integers between 0 and 9\n",
    "## with the same number of rows in df\n",
    "## then compares the array elements to 0\n",
    "## resulting in a boolean mask where true indicates corresponding element\n",
    "## is equal to 0  (WTF, that is too much in one line)\n",
    "mask = np.random.choice(10, size=df.shape[0]) == 0\n",
    "\n",
    "## create a new column \"NewSales\" in the dataframe df\n",
    "df[\"NewSales\"] = df.Sales.copy()\n",
    "\n",
    "## Set the values in NewSales column to np.nan where mask is true\n",
    "## in other words it corrupts the sales data by replacing them with NaN\n",
    "df.loc[mask, \"NewSales\"] = np.nan\n",
    "\n",
    "## Creates a histogram of the original sales data and displayed as a step plot\n",
    "plt.hist(df.Sales, label=\"Original\", histtype=\"step\")\n",
    "\n",
    "## creates a histogram of the NewSales data after corruption\n",
    "## fillna(0) used to fill NaN values in NewSales column with 0 before plotting\n",
    "plt.hist(df.NewSales.fillna(0), label=\"Corrupted\", histtype=\"step\")\n",
    "\n",
    "## add the legend to the plot\n",
    "plt.legend(), plt.xlabel(\"Sales\");"
   ]
  },
  {
   "cell_type": "code",
   "execution_count": null,
   "metadata": {},
   "outputs": [],
   "source": [
    "## Transform - similar to apply, \n",
    "## but it has to return a series the same size as the input."
   ]
  },
  {
   "cell_type": "code",
   "execution_count": 13,
   "metadata": {},
   "outputs": [
    {
     "data": {
      "image/png": "[encoded data removed]",
      "text/plain": [
       "<Figure size 432x288 with 1 Axes>"
      ]
     },
     "metadata": {
      "needs_background": "light"
     },
     "output_type": "display_data"
    }
   ],
   "source": [
    "## creates a new Series called test_fix. \n",
    "## It takes the \"NewSales\" column from the DataFrame df and \n",
    "## applies a transformation using the transform method\n",
    "## The transformation is a lambda function that fills the missing (NaN) values \n",
    "## in the column x with the mean value of the non-missing values in the same column.\n",
    "test_fix = df.NewSales.transform(lambda x: x.fillna(x.mean()))\n",
    "\n",
    "## creates a histogram of the test_fix Series using plt.hist(). \n",
    "## bins=100 argument divides the data into 100 bins for the histogram\n",
    "## the additional bins provide more granularity\n",
    "plt.hist(test_fix, bins=100);"
   ]
  },
  {
   "cell_type": "markdown",
   "metadata": {},
   "source": [
    "Not the best...\n",
    "\n",
    "From previous examples, we know that some stores are far above others, and that sales vary significantly over the day of week. But maybe its good enough if we take those two factors into consideration."
   ]
  },
  {
   "cell_type": "code",
   "execution_count": 9,
   "metadata": {},
   "outputs": [
    {
     "data": {
      "text/html": [
       "<div>\n",
       "<style scoped>\n",
       "    .dataframe tbody tr th:only-of-type {\n",
       "        vertical-align: middle;\n",
       "    }\n",
       "\n",
       "    .dataframe tbody tr th {\n",
       "        vertical-align: top;\n",
       "    }\n",
       "\n",
       "    .dataframe thead th {\n",
       "        text-align: right;\n",
       "    }\n",
       "</style>\n",
       "<table border=\"1\" class=\"dataframe\">\n",
       "  <thead>\n",
       "    <tr style=\"text-align: right;\">\n",
       "      <th></th>\n",
       "      <th></th>\n",
       "      <th>Sales</th>\n",
       "      <th>Customers</th>\n",
       "      <th>Open</th>\n",
       "      <th>Promo</th>\n",
       "      <th>SchoolHoliday</th>\n",
       "      <th>NewSales</th>\n",
       "    </tr>\n",
       "    <tr>\n",
       "      <th>Store</th>\n",
       "      <th>DayOfWeek</th>\n",
       "      <th></th>\n",
       "      <th></th>\n",
       "      <th></th>\n",
       "      <th></th>\n",
       "      <th></th>\n",
       "      <th></th>\n",
       "    </tr>\n",
       "  </thead>\n",
       "  <tbody>\n",
       "    <tr>\n",
       "      <th rowspan=\"5\" valign=\"top\">1</th>\n",
       "      <th>1</th>\n",
       "      <td>5302.5</td>\n",
       "      <td>581.0</td>\n",
       "      <td>1.0</td>\n",
       "      <td>1.0</td>\n",
       "      <td>0.0</td>\n",
       "      <td>5280.0</td>\n",
       "    </tr>\n",
       "    <tr>\n",
       "      <th>2</th>\n",
       "      <td>4640.5</td>\n",
       "      <td>549.5</td>\n",
       "      <td>1.0</td>\n",
       "      <td>1.0</td>\n",
       "      <td>0.0</td>\n",
       "      <td>4628.5</td>\n",
       "    </tr>\n",
       "    <tr>\n",
       "      <th>3</th>\n",
       "      <td>4549.5</td>\n",
       "      <td>533.0</td>\n",
       "      <td>1.0</td>\n",
       "      <td>1.0</td>\n",
       "      <td>0.0</td>\n",
       "      <td>4310.0</td>\n",
       "    </tr>\n",
       "    <tr>\n",
       "      <th>4</th>\n",
       "      <td>4380.0</td>\n",
       "      <td>525.0</td>\n",
       "      <td>1.0</td>\n",
       "      <td>1.0</td>\n",
       "      <td>0.0</td>\n",
       "      <td>4356.0</td>\n",
       "    </tr>\n",
       "    <tr>\n",
       "      <th>5</th>\n",
       "      <td>4651.0</td>\n",
       "      <td>552.0</td>\n",
       "      <td>1.0</td>\n",
       "      <td>1.0</td>\n",
       "      <td>0.0</td>\n",
       "      <td>4651.0</td>\n",
       "    </tr>\n",
       "  </tbody>\n",
       "</table>\n",
       "</div>"
      ],
      "text/plain": [
       "                  Sales  Customers  Open  Promo  SchoolHoliday  NewSales\n",
       "Store DayOfWeek                                                         \n",
       "1     1          5302.5      581.0   1.0    1.0            0.0    5280.0\n",
       "      2          4640.5      549.5   1.0    1.0            0.0    4628.5\n",
       "      3          4549.5      533.0   1.0    1.0            0.0    4310.0\n",
       "      4          4380.0      525.0   1.0    1.0            0.0    4356.0\n",
       "      5          4651.0      552.0   1.0    1.0            0.0    4651.0"
      ]
     },
     "execution_count": 9,
     "metadata": {},
     "output_type": "execute_result"
    }
   ],
   "source": [
    "dfg = df.groupby([\"Store\", \"DayOfWeek\"])\n",
    "dfg.median().head()"
   ]
  },
  {
   "cell_type": "code",
   "execution_count": 11,
   "metadata": {},
   "outputs": [
    {
     "data": {
      "image/png": "[encoded data removed]",
      "text/plain": [
       "<Figure size 432x288 with 1 Axes>"
      ]
     },
     "metadata": {
      "needs_background": "light"
     },
     "output_type": "display_data"
    }
   ],
   "source": [
    "## creates a new Series called test_fix2. \n",
    "## It takes the \"NewSales\" column from the DataFrame dfg and \n",
    "## applies a transformation using the transform method. \n",
    "## The transformation is defined as a lambda function \n",
    "## that fills the missing (NaN) values in the column x \n",
    "## with the mean value of the non-missing values in the same column. \n",
    "test_fix2 = dfg.NewSales.transform(lambda x: x.fillna(x.mean()))\n",
    "\n",
    "## creates a dictionary named opts that stores the options for \n",
    "## plotting the histograms.\n",
    "opts = {\"histtype\": \"step\", \"bins\": 50}\n",
    "\n",
    "## **opts syntax unpacks the opts dictionary and \n",
    "## passes its contents as keyword arguments to the \n",
    "## plt.hist() function\n",
    "plt.hist(df.Sales, label=\"Original\", **opts)\n",
    "plt.hist(test_fix, label=\"Naive Fix\", **opts)\n",
    "plt.hist(test_fix2, label=\"This fix\", **opts)\n",
    "plt.legend(), plt.xlabel(\"Sales\");"
   ]
  },
  {
   "cell_type": "markdown",
   "metadata": {},
   "source": [
    "Better! We could improve this even further if we wanted. Sales is a skewed distribution, so better for us to use the median than the mean. The performance of the previous days - above or below the mean - might be a good indicator for performance. But now we're heading into machine learning territory, which is too vast a topic to cover here!"
   ]
  }
 ],
 "metadata": {
  "kernelspec": {
   "display_name": "Python 3",
   "language": "python",
   "name": "python3"
  },
  "language_info": {
   "codemirror_mode": {
    "name": "ipython",
    "version": 3
   },
   "file_extension": ".py",
   "mimetype": "text/x-python",
   "name": "python",
   "nbconvert_exporter": "python",
   "pygments_lexer": "ipython3",
   "version": "3.8.5"
  }
 },
 "nbformat": 4,
 "nbformat_minor": 4
}
